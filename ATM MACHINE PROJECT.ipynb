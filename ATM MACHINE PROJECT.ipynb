{
 "cells": [
  {
   "cell_type": "code",
   "execution_count": null,
   "id": "2c489419",
   "metadata": {},
   "outputs": [],
   "source": [
    "print(\"WELCOME TO PKPS CO-OPERATIVE BANK\")\n",
    "pin = 1770\n",
    "chances = 4\n",
    "balance = 47750\n",
    "while chances != 0:\n",
    "    user_pin = int(input(\"Please enter the four-digit PIN: \"))\n",
    "    if user_pin != pin:\n",
    "        chances -= 1\n",
    "        print(\"Wrong PIN number\")\n",
    "        print(f\"You have {chances} number of chances left\")\n",
    "    else:\n",
    "        user_choice = input(\"B: balance, D: deposit, W: withdraw \")\n",
    "        if user_choice == \"B\":\n",
    "            print(f\"Your total balance is {balance}\")\n",
    "        elif user_choice == \"D\":\n",
    "            deposit_user = int(input(\"Enter the amount you would like to deposit: \"))\n",
    "            total_balance = deposit_user + balance \n",
    "            print(f\"You have deposited Rs {deposit_user}\")\n",
    "            print(f\"Your total balance after depositing is Rs {total_balance}\")\n",
    "        elif user_choice == \"W\":\n",
    "            withdraw_user = int(input(\"Enter the amount you want to withdraw: \"))\n",
    "            total_balance = balance - withdraw_user\n",
    "            print(f\"Your total balance is Rs {total_balance}\")\n",
    "        user_exit = input(\"Would you like to exit? YES/NO: \")\n",
    "        if user_exit == \"YES\":\n",
    "            print(\"Thank you for using PKPS CO-OPERATIVE BANK ATM MACHINE!\")\n",
    "            break\n",
    "        else:\n",
    "            continue\n"
   ]
  }
 ],
 "metadata": {
  "kernelspec": {
   "display_name": "Python 3 (ipykernel)",
   "language": "python",
   "name": "python3"
  },
  "language_info": {
   "codemirror_mode": {
    "name": "ipython",
    "version": 3
   },
   "file_extension": ".py",
   "mimetype": "text/x-python",
   "name": "python",
   "nbconvert_exporter": "python",
   "pygments_lexer": "ipython3",
   "version": "3.11.4"
  }
 },
 "nbformat": 4,
 "nbformat_minor": 5
}
